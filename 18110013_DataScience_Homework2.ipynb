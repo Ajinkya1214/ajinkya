{
  "nbformat": 4,
  "nbformat_minor": 0,
  "metadata": {
    "colab": {
      "name": "18110013_DataScience_Homework2.ipynb",
      "provenance": [],
      "collapsed_sections": [],
      "authorship_tag": "ABX9TyPuzlfoz8hkwMMWYhxi6M5L",
      "include_colab_link": true
    },
    "kernelspec": {
      "name": "python3",
      "display_name": "Python 3"
    },
    "language_info": {
      "name": "python"
    }
  },
  "cells": [
    {
      "cell_type": "markdown",
      "metadata": {
        "id": "view-in-github",
        "colab_type": "text"
      },
      "source": [
        "<a href=\"https://colab.research.google.com/github/Ajinkya1214/ajinkya/blob/master/18110013_DataScience_Homework2.ipynb\" target=\"_parent\"><img src=\"https://colab.research.google.com/assets/colab-badge.svg\" alt=\"Open In Colab\"/></a>"
      ]
    },
    {
      "cell_type": "markdown",
      "metadata": {
        "id": "aGt9JUPqc-gq"
      },
      "source": [
        "# Q4 Misra-Gries Algo\n"
      ]
    },
    {
      "cell_type": "code",
      "metadata": {
        "id": "1LBXQWGkOoz9"
      },
      "source": [
        "import numpy as np\n",
        "import random\n",
        "import matplotlib.pyplot as plt"
      ],
      "execution_count": null,
      "outputs": []
    },
    {
      "cell_type": "code",
      "metadata": {
        "id": "SIYriCR-mkBW"
      },
      "source": [
        "def mg_estimate(stream,k):\n",
        "\n",
        "  # stream = process_stream(stream)\n",
        "  dic_mg = {} #misra-gries\n",
        "  \n",
        "  for (x,c) in stream:\n",
        "    # print(dic_mg)\n",
        "\n",
        "    if x in dic_mg :\n",
        "      dic_mg[x]+=c\n",
        "\n",
        "    else :\n",
        "      if len(dic_mg) < k-1 :\n",
        "        dic_mg[x] = c\n",
        "      else : #decrease freq of each element by 1 and drop it if its freq becomes 0, also ignore the current element x\n",
        "        keys = list(dic_mg.keys())\n",
        "        for key in keys:\n",
        "          dic_mg[key]-=1\n",
        "          if dic_mg[key] == 0:\n",
        "            del dic_mg[key]\n",
        "\n",
        "  return dic_mg # k-1 most frequent(have actual freq greater than m/k) elements and their estimated freq"
      ],
      "execution_count": null,
      "outputs": []
    },
    {
      "cell_type": "markdown",
      "metadata": {
        "id": "CAambWsXjL6f"
      },
      "source": [
        "# Count Min"
      ]
    },
    {
      "cell_type": "code",
      "metadata": {
        "id": "iPxzo_tbu_rs"
      },
      "source": [
        "#random hash function\n",
        "def hash_func(x,param):\n",
        "  a = param[0]\n",
        "  b = param[1]\n",
        "  p = param[2]\n",
        "  d = param[3]\n",
        "  return ((a*x+b)%p)%d"
      ],
      "execution_count": null,
      "outputs": []
    },
    {
      "cell_type": "code",
      "metadata": {
        "id": "0knuA2kUmrd4"
      },
      "source": [
        "#two wise indep hash function\n",
        "def g(x,param):\n",
        "  a = param[0]\n",
        "  b= param[1]\n",
        "  c = (a*x+b)%2\n",
        "  if c == 0:\n",
        "    return -1\n",
        "\n",
        "  return 1"
      ],
      "execution_count": null,
      "outputs": []
    },
    {
      "cell_type": "code",
      "metadata": {
        "id": "jY74zYr6nHOz"
      },
      "source": [
        "#set of two wise indep hash funcs\n",
        "def hash_famg(w):\n",
        "\n",
        "  fam = {}\n",
        "\n",
        "  for i in range(w):\n",
        "    a = int(random.random()*2)\n",
        "    b = int(random.random()*2)\n",
        "    fam[i] = [a,b]\n",
        "\n",
        "  return fam"
      ],
      "execution_count": null,
      "outputs": []
    },
    {
      "cell_type": "code",
      "metadata": {
        "id": "MXLgqMn_t6en"
      },
      "source": [
        "#set of random hash functions\n",
        "def hash_fam(w,d):\n",
        "\n",
        "  fam = {}\n",
        "\n",
        "  p = 2**31 - 1\n",
        "\n",
        "  for i in range(w):\n",
        "    a = int(random.random()*p) #random int from [1,p-1]\n",
        "    b = int(random.random()*p)\n",
        "    fam[i] = [a,b,p,d] #param for ith hash func\n",
        "\n",
        "  return fam"
      ],
      "execution_count": null,
      "outputs": []
    },
    {
      "cell_type": "code",
      "metadata": {
        "id": "BF30q53NjO2S"
      },
      "source": [
        "class CountMin():\n",
        "\n",
        "  def __init__(self,w,d):\n",
        "\n",
        "    self.hash_fam = hash_fam(w,d)\n",
        "    self.sketch = np.zeros((w,d))\n",
        "    return\n",
        "\n",
        "  def estimate(self,stream):\n",
        "\n",
        "    for (id,c) in stream :\n",
        "      for i in range(len(self.hash_fam)):\n",
        "        bucket = hash_func(id,self.hash_fam[i])\n",
        "        self.sketch[i][bucket] += c\n",
        "\n",
        "    return\n",
        "\n",
        "  def query(self,x):\n",
        "\n",
        "    est = []\n",
        "    for i in range(len(self.hash_fam)):\n",
        "      bucket = hash_func(x,self.hash_fam[i])\n",
        "      yi = self.sketch[i][bucket]\n",
        "      est.append(yi)\n",
        "    \n",
        "    est = np.array(est)\n",
        "\n",
        "    return np.min(est)"
      ],
      "execution_count": null,
      "outputs": []
    },
    {
      "cell_type": "markdown",
      "metadata": {
        "id": "3eis7GLXtnl1"
      },
      "source": [
        "# Count Sketch"
      ]
    },
    {
      "cell_type": "code",
      "metadata": {
        "id": "3U-gh0V-tsQf"
      },
      "source": [
        "class CountSketch():\n",
        "\n",
        "  def __init__(self,w,d):\n",
        "\n",
        "    self.hash_famh = hash_fam(w,d)\n",
        "    self.hash_famg = hash_famg(w)\n",
        "    self.sketch = np.zeros((w,d))\n",
        "\n",
        "    return\n",
        "\n",
        "  def estimate(self,stream):\n",
        "\n",
        "    for (id,c) in stream :\n",
        "      for i in range(len(self.hash_famh)):\n",
        "        bucket = hash_func(id,self.hash_famh[i])\n",
        "        sign = g(id,self.hash_famg[i])\n",
        "        self.sketch[i][bucket] += sign*c\n",
        "    \n",
        "    return\n",
        "\n",
        "  def query(self,x):\n",
        "\n",
        "    est = []\n",
        "\n",
        "    for i in range(len(self.hash_famh)):\n",
        "      bucket = hash_func(x,self.hash_famh[i])\n",
        "      sign = g(x,self.hash_famg[i])\n",
        "      yi = sign*(self.sketch[i][bucket])\n",
        "      est.append(yi)\n",
        "\n",
        "    est = np.array(est)\n",
        "\n",
        "    return np.median(est)\n",
        "  "
      ],
      "execution_count": null,
      "outputs": []
    },
    {
      "cell_type": "markdown",
      "metadata": {
        "id": "RrC8pC5yq6LY"
      },
      "source": [
        "# Comparison"
      ]
    },
    {
      "cell_type": "code",
      "metadata": {
        "id": "O24gyeIDq8yj"
      },
      "source": [
        "def true_freq(stream):\n",
        "\n",
        "  dic = {}\n",
        "  for (id,c) in stream:\n",
        "    if id in dic:\n",
        "      dic[id] += c\n",
        "    else :\n",
        "      dic[id] = c\n",
        "  \n",
        "  arr = []\n",
        "  for x in dic:\n",
        "    arr.append((x,dic[x]))\n",
        "  \n",
        "  arr = sorted(arr,key = lambda x:x[1])\n",
        "  arr.reverse()\n",
        "  arr = arr[:1000] #top thousand most frequent elements\n",
        "\n",
        "  return dic,arr"
      ],
      "execution_count": null,
      "outputs": []
    },
    {
      "cell_type": "code",
      "metadata": {
        "id": "jAIL4QharbbQ"
      },
      "source": [
        "def estimates(stream,w,k):\n",
        "\n",
        "  mg = mg_estimate(stream,k) #dic\n",
        "  d = int(k/w)\n",
        "  cmin = CountMin(w,d)\n",
        "  cmin.estimate(stream)\n",
        "  cs = CountSketch(w,d)\n",
        "  cs.estimate(stream)\n",
        "\n",
        "  return mg, cmin, cs\n"
      ],
      "execution_count": null,
      "outputs": []
    },
    {
      "cell_type": "code",
      "metadata": {
        "id": "MhHgvpdj1pdC"
      },
      "source": [
        "def generate_query(stream,arr):\n",
        "\n",
        "  indices = random.sample(range(0,100),100)\n",
        "\n",
        "  query_stream = []\n",
        "  for i in indices:\n",
        "    query_stream.append(arr[i])\n",
        "\n",
        "  return query_stream"
      ],
      "execution_count": null,
      "outputs": []
    },
    {
      "cell_type": "code",
      "metadata": {
        "id": "sgZsDHpKxOTP"
      },
      "source": [
        "#stream\n",
        "\n",
        "f = open('train.data','r')\n",
        "rows = f.readlines()"
      ],
      "execution_count": null,
      "outputs": []
    },
    {
      "cell_type": "code",
      "metadata": {
        "id": "IU-9O2CXxyL5"
      },
      "source": [
        "stream = []\n",
        "for r in rows:\n",
        "  a = r.split(' ')\n",
        "  id = int(a[1])\n",
        "  c = int(a[2][:-1])\n",
        "  stream.append((id,c))"
      ],
      "execution_count": null,
      "outputs": []
    },
    {
      "cell_type": "code",
      "metadata": {
        "id": "ZrrMXgzE8QLu"
      },
      "source": [
        "dic,arr = true_freq(stream)"
      ],
      "execution_count": null,
      "outputs": []
    },
    {
      "cell_type": "code",
      "metadata": {
        "id": "CTTpzbig8R3r"
      },
      "source": [
        "query_stream = generate_query(stream,arr)"
      ],
      "execution_count": null,
      "outputs": []
    },
    {
      "cell_type": "code",
      "metadata": {
        "id": "XGJYS0B6-uqN"
      },
      "source": [
        "ks = [100,200,500,1000,2000]\n",
        "err_mg = []\n",
        "err_cmin = []\n",
        "err_cs = []\n"
      ],
      "execution_count": null,
      "outputs": []
    },
    {
      "cell_type": "code",
      "metadata": {
        "colab": {
          "base_uri": "https://localhost:8080/",
          "height": 352
        },
        "id": "b_Hvx9Su2Rn3",
        "outputId": "f2315c57-fd21-4b3f-bbc4-5b854899b18a"
      },
      "source": [
        "#make sketches of different size and compute the avg error on query stream\n",
        "for k in ks:\n",
        "  print(k)\n",
        "  mg ,cmin ,cs = estimates(stream,5,k)\n",
        "\n",
        "  avg_rel_err_mg = 0 \n",
        "  avg_rel_err_cmin = 0\n",
        "  avg_rel_err_cs = 0 \n",
        "  for (x,fx) in query_stream:\n",
        "\n",
        "    #mg\n",
        "    if x in mg:\n",
        "      est = mg[x]\n",
        "    else:\n",
        "      est = 0\n",
        "    avg_rel_err_mg += abs(fx-est)/fx\n",
        "\n",
        "    #cmin\n",
        "    est = cmin.query(x)\n",
        "    avg_rel_err_cmin += abs(fx-est)/fx\n",
        "\n",
        "    #cs\n",
        "    est = cs.query(x)\n",
        "    avg_rel_err_cs += abs(fx-est)/fx\n",
        "\n",
        "  avg_rel_err_mg /= 100\n",
        "  avg_rel_err_cmin /= 100\n",
        "  avg_rel_err_cs /= 100\n",
        "\n",
        "  err_mg.append(avg_rel_err_mg)\n",
        "  err_cmin.append(avg_rel_err_cmin)\n",
        "  err_cs.append(avg_rel_err_cs)\n",
        "\n",
        "\n",
        "plt.plot(ks,err_mg,label='Misra-Gries')\n",
        "plt.plot(ks,err_cmin,label='Count-Min')\n",
        "plt.plot(ks,err_cs,label='Count-Sketch')\n",
        "plt.legend()\n",
        "plt.show()\n"
      ],
      "execution_count": null,
      "outputs": [
        {
          "output_type": "stream",
          "text": [
            "100\n",
            "200\n",
            "500\n",
            "1000\n",
            "2000\n"
          ],
          "name": "stdout"
        },
        {
          "output_type": "display_data",
          "data": {
            "image/png": "[encoded data removed]",
            "text/plain": [
              "<Figure size 432x288 with 1 Axes>"
            ]
          },
          "metadata": {
            "tags": [],
            "needs_background": "light"
          }
        }
      ]
    },
    {
      "cell_type": "code",
      "metadata": {
        "colab": {
          "base_uri": "https://localhost:8080/"
        },
        "id": "MPx8SN9ANkGt",
        "outputId": "89937bd6-96a0-4981-9b0f-0a77ead3dcdc"
      },
      "source": [
        "err_mg"
      ],
      "execution_count": null,
      "outputs": [
        {
          "output_type": "execute_result",
          "data": {
            "text/plain": [
              "[0.9554447741405405,\n",
              " 0.8797434799766296,\n",
              " 0.5798787065145591,\n",
              " 0.27605103397509057,\n",
              " 0.11623862113102686]"
            ]
          },
          "metadata": {
            "tags": []
          },
          "execution_count": 18
        }
      ]
    },
    {
      "cell_type": "code",
      "metadata": {
        "colab": {
          "base_uri": "https://localhost:8080/"
        },
        "id": "t0gEZ7rsBWVF",
        "outputId": "b384781d-d1f4-4f70-ea5e-d0116976afa8"
      },
      "source": [
        "err_cmin"
      ],
      "execution_count": null,
      "outputs": [
        {
          "output_type": "execute_result",
          "data": {
            "text/plain": [
              "[16.299852783865653,\n",
              " 7.079166237252457,\n",
              " 2.418207812102622,\n",
              " 1.0515723581704544,\n",
              " 0.45373247307940745]"
            ]
          },
          "metadata": {
            "tags": []
          },
          "execution_count": 19
        }
      ]
    },
    {
      "cell_type": "code",
      "metadata": {
        "colab": {
          "base_uri": "https://localhost:8080/"
        },
        "id": "K7cIg2b9BixX",
        "outputId": "16f111dd-d771-45c0-f62d-dc5378c5eb45"
      },
      "source": [
        "err_cs"
      ],
      "execution_count": null,
      "outputs": [
        {
          "output_type": "execute_result",
          "data": {
            "text/plain": [
              "[18.227492906563086,\n",
              " 8.379914760370141,\n",
              " 1.6686277449344125,\n",
              " 1.22261833281812,\n",
              " 0.49226788918566977]"
            ]
          },
          "metadata": {
            "tags": []
          },
          "execution_count": 20
        }
      ]
    },
    {
      "cell_type": "code",
      "metadata": {
        "id": "Ve7R_OYPRONN"
      },
      "source": [
        "#function to find min k for which the avg error over query stream is less than 1%\n",
        "def get_best_k(stream,query_stream,sketch,l,r):\n",
        "\n",
        "  for k in range(l,r):\n",
        "    d = int(k/5)  \n",
        "\n",
        "    if sketch == 'mg':\n",
        "      mg = mg_estimate(stream,k) #dic\n",
        "    elif sketch == 'cmin':\n",
        "      cmin = CountMin(5,d)\n",
        "      cmin.estimate(stream)\n",
        "    else:\n",
        "      cs = CountSketch(5,d)\n",
        "      cs.estimate(stream)\n",
        "  \n",
        "    avg_rel_err = 0\n",
        "\n",
        "    for (x,fx) in query_stream:\n",
        "      est = 0\n",
        "      #mg\n",
        "      if sketch == 'mg':\n",
        "        if x in mg:\n",
        "          est = mg[x]\n",
        "        else:\n",
        "          est = 0\n",
        "\n",
        "      elif sketch == 'cmin':\n",
        "        est = cmin.query(x)\n",
        "      else :\n",
        "        est = cs.query(x)\n",
        "      \n",
        "      avg_rel_err += abs(fx-est)/fx\n",
        "\n",
        "    avg_rel_err /= 100\n",
        "    print(avg_rel_err)\n",
        "    if avg_rel_err*100 < 1 : #AVG_REL_ERR < 1 OR AVG_REL_ERR*100 < 1 ??\n",
        "      return k\n",
        "  return 0"
      ],
      "execution_count": null,
      "outputs": []
    },
    {
      "cell_type": "code",
      "metadata": {
        "id": "I0l-kuAoUOGS",
        "colab": {
          "base_uri": "https://localhost:8080/"
        },
        "outputId": "9ef6cb8c-cea1-4d9f-9467-57c2989d3fc8"
      },
      "source": [
        "kbest_cmin = get_best_k(stream,query_stream,'cmin',25000,26200)"
      ],
      "execution_count": null,
      "outputs": [
        {
          "output_type": "stream",
          "text": [
            "0.012036906638336332\n",
            "0.010457528904357527\n",
            "0.011730152426246388\n",
            "0.009506412301434721\n"
          ],
          "name": "stdout"
        }
      ]
    },
    {
      "cell_type": "code",
      "metadata": {
        "colab": {
          "base_uri": "https://localhost:8080/"
        },
        "id": "JFKfnr_GZKx8",
        "outputId": "a5ef5131-8e4f-4e7e-cf68-ea4fe05e3e13"
      },
      "source": [
        "kbest_cs = get_best_k(stream,query_stream,'cs',19000,26200)"
      ],
      "execution_count": null,
      "outputs": [
        {
          "output_type": "stream",
          "text": [
            "0.041596003731912544\n",
            "0.025073197701186243\n",
            "0.020978272196240454\n",
            "0.019517894584836274\n",
            "0.025220269049320905\n",
            "0.07749011713770662\n",
            "0.01699197807800118\n",
            "0.02046408802339693\n",
            "0.030028311336909367\n",
            "0.012058164509714258\n",
            "0.009559664277739658\n"
          ],
          "name": "stdout"
        }
      ]
    },
    {
      "cell_type": "code",
      "metadata": {
        "colab": {
          "base_uri": "https://localhost:8080/"
        },
        "id": "xmccSwfbE1ia",
        "outputId": "07721b8f-3b9c-46b2-fa6b-22892b8b7b5c"
      },
      "source": [
        "kbest_mg = get_best_k(stream,query_stream,'mg',10350,10500)"
      ],
      "execution_count": null,
      "outputs": [
        {
          "output_type": "stream",
          "text": [
            "0.010006476034242255\n",
            "0.010006476034242255\n",
            "0.010006476034242255\n",
            "0.010006476034242255\n",
            "0.010006476034242255\n",
            "0.010006476034242255\n",
            "0.010006476034242255\n",
            "0.010006476034242255\n",
            "0.010006476034242255\n",
            "0.010006476034242255\n",
            "0.009839701433671551\n"
          ],
          "name": "stdout"
        }
      ]
    },
    {
      "cell_type": "markdown",
      "metadata": {
        "id": "v3381VDxWXml"
      },
      "source": [
        "# Q5 Low Rank Approximation"
      ]
    },
    {
      "cell_type": "code",
      "metadata": {
        "id": "306DeSMOWcGf"
      },
      "source": [
        "import pandas as pd"
      ],
      "execution_count": null,
      "outputs": []
    },
    {
      "cell_type": "code",
      "metadata": {
        "colab": {
          "base_uri": "https://localhost:8080/"
        },
        "id": "uEudGqbb8ln4",
        "outputId": "80d53dbe-407f-48a6-c4dd-6608b949b77c"
      },
      "source": [
        "rating = pd.read_csv('ratings.csv')\n",
        "rating.head"
      ],
      "execution_count": null,
      "outputs": [
        {
          "output_type": "execute_result",
          "data": {
            "text/plain": [
              "<bound method NDFrame.head of         userId  movieId  rating   timestamp\n",
              "0            1      296     5.0  1147880044\n",
              "1            1      306     3.5  1147868817\n",
              "2            1      307     5.0  1147868828\n",
              "3            1      665     5.0  1147878820\n",
              "4            1      899     3.5  1147868510\n",
              "...        ...      ...     ...         ...\n",
              "860042    5790     1261     4.0  1217130084\n",
              "860043    5790     1267     4.0  1217129753\n",
              "860044    5790     1285     3.5  1217130018\n",
              "860045    5790     1293     4.5  1217129746\n",
              "860046    5790     1298     3.5      121713\n",
              "\n",
              "[860047 rows x 4 columns]>"
            ]
          },
          "metadata": {
            "tags": []
          },
          "execution_count": 63
        }
      ]
    },
    {
      "cell_type": "code",
      "metadata": {
        "id": "ARCo4w_6Of22"
      },
      "source": [
        "rating = rating[rating['userId'] < 5790]"
      ],
      "execution_count": null,
      "outputs": []
    },
    {
      "cell_type": "code",
      "metadata": {
        "colab": {
          "base_uri": "https://localhost:8080/"
        },
        "id": "yOrvVWdbOphm",
        "outputId": "f7237234-b053-4a56-a614-607b8dd8dd2a"
      },
      "source": [
        "rating.head"
      ],
      "execution_count": null,
      "outputs": [
        {
          "output_type": "execute_result",
          "data": {
            "text/plain": [
              "<bound method NDFrame.head of         userId  movieId  rating   timestamp\n",
              "0            1      296     5.0  1147880044\n",
              "1            1      306     3.5  1147868817\n",
              "2            1      307     5.0  1147868828\n",
              "3            1      665     5.0  1147878820\n",
              "4            1      899     3.5  1147868510\n",
              "...        ...      ...     ...         ...\n",
              "860003    5789     4299     1.0   993958811\n",
              "860004    5789     4308     2.0   993958811\n",
              "860005    5789     4310     2.0   993958811\n",
              "860006    5789     4340     4.0   993958961\n",
              "860007    5789     4344     5.0   993958883\n",
              "\n",
              "[860008 rows x 4 columns]>"
            ]
          },
          "metadata": {
            "tags": []
          },
          "execution_count": 68
        }
      ]
    },
    {
      "cell_type": "code",
      "metadata": {
        "id": "Whxn0JlVJYbx"
      },
      "source": [
        "users = 5789\n",
        "movies = np.unique(rating['movieId'])\n",
        "dic = {} #mapping a one to one correspondence between ascending order of movie ids and natural nos (id1:0,id2:1,...)\n",
        "idx = 0 \n",
        "for m in movies:\n",
        "  dic[m] = idx\n",
        "  idx += 1\n",
        "\n",
        "cols = len(movies)"
      ],
      "execution_count": null,
      "outputs": []
    },
    {
      "cell_type": "code",
      "metadata": {
        "id": "T1Ga511ARn2E"
      },
      "source": [
        "#rating matrix\n",
        "rows = users + 1\n",
        "arr = np.zeros((rows,cols))"
      ],
      "execution_count": null,
      "outputs": []
    },
    {
      "cell_type": "code",
      "metadata": {
        "id": "jw-p-dxKSDxW"
      },
      "source": [
        "#training data\n",
        "df_train = rating.sample(frac=0.8)"
      ],
      "execution_count": null,
      "outputs": []
    },
    {
      "cell_type": "code",
      "metadata": {
        "id": "F68U3XUpSZhv"
      },
      "source": [
        "#fill the rating matrix \n",
        "for index,row in df_train.iterrows():\n",
        "\n",
        "  u = int(row['userId'])\n",
        "  m = dic[row['movieId']]\n",
        "  r = int(row['rating'])\n",
        "  arr[u-1][m] = r\n"
      ],
      "execution_count": null,
      "outputs": []
    },
    {
      "cell_type": "code",
      "metadata": {
        "id": "Tazlt_0Hbo7m"
      },
      "source": [
        "df_test = rating[~rating.index.isin(df_train.index)]"
      ],
      "execution_count": null,
      "outputs": []
    },
    {
      "cell_type": "code",
      "metadata": {
        "id": "SOl84riNUawj"
      },
      "source": [
        "#SVD of arr (rating matrix)\n",
        "\n",
        "U,S,V = np.linalg.svd(arr,full_matrices=False)"
      ],
      "execution_count": null,
      "outputs": []
    },
    {
      "cell_type": "code",
      "metadata": {
        "colab": {
          "base_uri": "https://localhost:8080/"
        },
        "id": "_9-APbNbeRZG",
        "outputId": "cefec983-59e6-492a-9da8-2e312ff60281"
      },
      "source": [
        "ks = [i for i in range(1,101)]\n",
        "errs = []\n",
        "for k in ks :\n",
        "  #rank k approximation\n",
        "\n",
        "  low = np.zeros((arr.shape[0],arr.shape[1]))\n",
        "\n",
        "  for i in range(k):\n",
        "    sigmai = S[i]\n",
        "    ui = U[:,i]\n",
        "    ui = np.reshape(ui,(ui.shape[0],1))\n",
        "    vi = V[i,:]\n",
        "    vi = np.reshape(vi,(vi.shape[0],1))\n",
        "    matrix_i = np.dot(sigmai*ui,np.transpose(vi)) \n",
        "    low = np.add(low,matrix_i)\n",
        "  \n",
        "  #calculate error on test data\n",
        "  err = 0\n",
        "  for index,row in df_test.iterrows():\n",
        "      sij = row['rating']\n",
        "      i = int(row['userId'])\n",
        "      j = dic[row['movieId']]\n",
        "      predij = low[i-1][j]\n",
        "      err += (sij-predij)**2\n",
        "  print(err)\n",
        "  errs.append(err)\n"
      ],
      "execution_count": null,
      "outputs": [
        {
          "output_type": "stream",
          "text": [
            "1803373.8035729125\n",
            "1700520.0904785984\n",
            "1645076.4131681323\n",
            "1601364.6391505566\n",
            "1570691.4935636905\n",
            "1545170.7346255647\n",
            "1518841.7709614886\n",
            "1502857.3168617345\n",
            "1489106.4768787154\n",
            "1477945.5791472343\n",
            "1468507.1555608625\n",
            "1459250.1115943287\n",
            "1450137.393876295\n",
            "1443357.2225134985\n",
            "1437139.214032978\n",
            "1432728.665398457\n",
            "1427580.7729814926\n",
            "1424214.8029553313\n",
            "1420570.6601600538\n",
            "1418566.0643816148\n",
            "1416316.5997249999\n",
            "1413057.432605461\n",
            "1412064.618818043\n",
            "1411192.4769950644\n",
            "1411129.1531971837\n",
            "1410479.915889432\n",
            "1410348.194320377\n",
            "1409277.0768670554\n",
            "1408988.3822777276\n",
            "1408943.8462891919\n",
            "1408881.129360327\n",
            "1409490.0874149415\n",
            "1410733.41061294\n",
            "1412715.1596552362\n",
            "1414778.6715879317\n",
            "1415331.191825176\n",
            "1417835.89318685\n",
            "1420536.5285038082\n",
            "1422039.3096038871\n",
            "1423098.4111853149\n",
            "1424543.4978331644\n",
            "1426097.7643698738\n",
            "1427180.2319906224\n",
            "1428191.1986073372\n",
            "1430469.7757089622\n",
            "1433111.711351489\n",
            "1435224.630786993\n",
            "1436841.2148263392\n",
            "1438738.9729731265\n",
            "1441092.8111574769\n",
            "1442982.8862207006\n",
            "1445467.5488189324\n",
            "1446979.2025508701\n",
            "1449114.071302469\n",
            "1452034.0188325203\n",
            "1453907.9975561085\n",
            "1456081.7547110182\n",
            "1458565.318976678\n",
            "1460265.3470366301\n",
            "1462271.1022182505\n",
            "1464758.2249126155\n",
            "1466071.7959131873\n",
            "1468667.7480448643\n",
            "1471530.9886101647\n",
            "1473578.9817655466\n",
            "1476354.6095586503\n",
            "1478229.4564809508\n",
            "1480527.4510453658\n",
            "1482785.805160586\n",
            "1485240.6844133586\n",
            "1487524.3874240802\n",
            "1489499.9200753856\n",
            "1491798.416571013\n",
            "1494221.589370855\n",
            "1495966.0414575797\n",
            "1498218.531465689\n",
            "1500681.1000732926\n",
            "1502336.7500056822\n",
            "1504544.4685257208\n",
            "1507276.3821193962\n",
            "1508974.384480232\n",
            "1511059.7861514357\n",
            "1513230.3790802606\n",
            "1515609.146542237\n",
            "1517833.3007233136\n",
            "1520162.2502186946\n",
            "1522801.0572060759\n",
            "1525447.2629998727\n",
            "1527587.3956068468\n",
            "1530226.830139589\n",
            "1532125.0101116502\n",
            "1534308.9509782377\n",
            "1536902.5881339575\n",
            "1539390.1518732419\n",
            "1541757.082587187\n",
            "1544093.1812378794\n",
            "1546450.907300893\n",
            "1548666.8098220865\n",
            "1550979.6019500939\n",
            "1552722.367761308\n"
          ],
          "name": "stdout"
        }
      ]
    },
    {
      "cell_type": "code",
      "metadata": {
        "colab": {
          "base_uri": "https://localhost:8080/",
          "height": 307
        },
        "id": "YXybpHkecRrA",
        "outputId": "298b29cc-5f4b-4add-b8a3-cfac0488ab20"
      },
      "source": [
        "plt.plot(ks,errs)\n",
        "plt.xlabel('rank - k')\n",
        "plt.ylabel('err')"
      ],
      "execution_count": null,
      "outputs": [
        {
          "output_type": "execute_result",
          "data": {
            "text/plain": [
              "Text(0, 0.5, 'err')"
            ]
          },
          "metadata": {
            "tags": []
          },
          "execution_count": 90
        },
        {
          "output_type": "display_data",
          "data": {
            "image/png": "[encoded data removed]",
            "text/plain": [
              "<Figure size 432x288 with 1 Axes>"
            ]
          },
          "metadata": {
            "tags": [],
            "needs_background": "light"
          }
        }
      ]
    },
    {
      "cell_type": "code",
      "metadata": {
        "id": "WdYXaFanjkg5"
      },
      "source": [
        "import sklearn\n",
        "from sklearn.linear_model import LinearRegression"
      ],
      "execution_count": null,
      "outputs": []
    },
    {
      "cell_type": "code",
      "metadata": {
        "id": "T2ET4NxmDcYY"
      },
      "source": [
        "usr_avg = {} #userId : avg rating in training data\n",
        "mov_avg = {} #movieId : avg rating in training data"
      ],
      "execution_count": null,
      "outputs": []
    },
    {
      "cell_type": "code",
      "metadata": {
        "id": "awHcIfWRDsii"
      },
      "source": [
        "users = np.unique(df_train['userId'])\n",
        "\n",
        "for usrid in users :\n",
        "   df = df_train[df_train['userId']==usrid] #all movies rated by the user\n",
        "   sum = np.sum(df['rating'])\n",
        "   usr_avg[usrid] = sum/df.shape[0]\n"
      ],
      "execution_count": null,
      "outputs": []
    },
    {
      "cell_type": "code",
      "metadata": {
        "id": "buNY9rQSFJX_"
      },
      "source": [
        "mov = np.unique(df_train['movieId'])\n",
        "\n",
        "for mid in mov :\n",
        "   df = df_train[df_train['movieId']==mid] #all users(& other cols) who rated for that movie\n",
        "   sum = np.sum(df['rating'])\n",
        "   mov_avg[mid] = sum/df.shape[0]"
      ],
      "execution_count": null,
      "outputs": []
    },
    {
      "cell_type": "code",
      "metadata": {
        "id": "ILXBbQMOkDLW"
      },
      "source": [
        "#creating a new training data\n",
        "X = []\n",
        "y = []\n",
        "for index, row in df_train.iterrows():\n",
        "  uid = int(row['userId'])\n",
        "  mid = int(row['movieId'])\n",
        "  r = int(row['rating'])\n",
        "  y.append(r)\n",
        "  X.append([usr_avg[uid],mov_avg[mid]])"
      ],
      "execution_count": null,
      "outputs": []
    },
    {
      "cell_type": "code",
      "metadata": {
        "id": "Ub4hpBBwkwnD"
      },
      "source": [
        "reg = LinearRegression(fit_intercept=False).fit(np.array(X),np.array(y))"
      ],
      "execution_count": null,
      "outputs": []
    },
    {
      "cell_type": "code",
      "metadata": {
        "colab": {
          "base_uri": "https://localhost:8080/"
        },
        "id": "aSiUL53pk5L8",
        "outputId": "1f04f65d-a6fc-4032-ba66-eda2a8ab35f7"
      },
      "source": [
        "reg.coef_"
      ],
      "execution_count": null,
      "outputs": [
        {
          "output_type": "execute_result",
          "data": {
            "text/plain": [
              "array([0.47720609, 0.48972965])"
            ]
          },
          "metadata": {
            "tags": []
          },
          "execution_count": 97
        }
      ]
    },
    {
      "cell_type": "code",
      "metadata": {
        "colab": {
          "base_uri": "https://localhost:8080/"
        },
        "id": "5OZnkKThlA6T",
        "outputId": "f895e598-f559-4ebc-cc8a-fa5d9e357026"
      },
      "source": [
        "err2 = 0\n",
        "count = 0\n",
        "for index,row in df_test.iterrows():\n",
        "\n",
        "    #ground truth\n",
        "    sij = row['rating']\n",
        "\n",
        "    #get the user and movie\n",
        "    uid = int(row['userId'])\n",
        "    mid = dic[row['movieId']]\n",
        "\n",
        "    if uid not in usr_avg or mid not in mov_avg: \n",
        "      count += 1\n",
        "      continue\n",
        "\n",
        "    uavg = usr_avg[uid]\n",
        "    mavg = mov_avg[mid]\n",
        "    \n",
        "    #predict\n",
        "    predij = reg.coef_[0]*uavg + reg.coef_[1]*mavg\n",
        "\n",
        "    err2 += (sij-predij)**2\n",
        "\n",
        "print(err2)\n"
      ],
      "execution_count": null,
      "outputs": [
        {
          "output_type": "stream",
          "text": [
            "135905.03660054604\n"
          ],
          "name": "stdout"
        }
      ]
    },
    {
      "cell_type": "code",
      "metadata": {
        "colab": {
          "base_uri": "https://localhost:8080/"
        },
        "id": "8-tAk_fetbCv",
        "outputId": "9be6f52d-acbd-4937-fe26-f93ade8ceae4"
      },
      "source": [
        "count"
      ],
      "execution_count": null,
      "outputs": [
        {
          "output_type": "execute_result",
          "data": {
            "text/plain": [
              "51357"
            ]
          },
          "metadata": {
            "tags": []
          },
          "execution_count": 100
        }
      ]
    },
    {
      "cell_type": "code",
      "metadata": {
        "colab": {
          "base_uri": "https://localhost:8080/"
        },
        "id": "Jcrz8xaAtfZw",
        "outputId": "42944069-e42f-4098-aed8-13771b6df43c"
      },
      "source": [
        "df_test.shape"
      ],
      "execution_count": null,
      "outputs": [
        {
          "output_type": "execute_result",
          "data": {
            "text/plain": [
              "(172002, 4)"
            ]
          },
          "metadata": {
            "tags": []
          },
          "execution_count": 101
        }
      ]
    },
    {
      "cell_type": "code",
      "metadata": {
        "colab": {
          "base_uri": "https://localhost:8080/"
        },
        "id": "m5jmHKskl470",
        "outputId": "18d6f1db-1642-4675-937b-d242e7e884d4"
      },
      "source": [
        "err1 = np.min(np.array(errs))\n",
        "err1"
      ],
      "execution_count": null,
      "outputs": [
        {
          "output_type": "execute_result",
          "data": {
            "text/plain": [
              "1408881.129360327"
            ]
          },
          "metadata": {
            "tags": []
          },
          "execution_count": 102
        }
      ]
    },
    {
      "cell_type": "code",
      "metadata": {
        "colab": {
          "base_uri": "https://localhost:8080/"
        },
        "id": "Ws7H8EPUufLA",
        "outputId": "092b756e-32db-4d56-c891-e45aa77c252a"
      },
      "source": [
        "kbest =  np.argmin(np.array(errs),axis=0)\n",
        "kbest"
      ],
      "execution_count": null,
      "outputs": [
        {
          "output_type": "execute_result",
          "data": {
            "text/plain": [
              "30"
            ]
          },
          "metadata": {
            "tags": []
          },
          "execution_count": 108
        }
      ]
    }
  ]
}